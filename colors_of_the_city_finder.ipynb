{
 "cells": [
  {
   "cell_type": "markdown",
   "id": "7b68b278",
   "metadata": {},
   "source": [
    "# Getting user's location, current time and current weather\n",
    "## Please run cell below to get your current location, time and weather condition"
   ]
  },
  {
   "cell_type": "code",
   "execution_count": 1,
   "id": "cfafc56f",
   "metadata": {},
   "outputs": [
    {
     "name": "stdout",
     "output_type": "stream",
     "text": [
      "Current location: (59.850938, 30.319084)\n",
      "Current data_time: 2021-10-27 01:14:33.635161\n",
      "Current weather: 90\n"
     ]
    }
   ],
   "source": [
    "from ui.gui_requests_handler import get_current_location, get_current_date_time, get_current_weather\n",
    "\n",
    "# Running GUI to get current user location\n",
    "location = get_current_location()\n",
    "print(f\"Current location: ({location[0]}, {location[1]})\")\n",
    "\n",
    "# Getting current time\n",
    "date_time = get_current_date_time()\n",
    "print(f\"Current data_time: {date_time}\")\n",
    "\n",
    "# Getting current weather\n",
    "weather = get_current_weather(location)\n",
    "print(f\"Current weather: {weather}\")"
   ]
  },
  {
   "cell_type": "markdown",
   "id": "f28d1306",
   "metadata": {},
   "source": [
    "# Getting images"
   ]
  },
  {
   "cell_type": "code",
   "execution_count": 6,
   "id": "9c5c1b44",
   "metadata": {},
   "outputs": [
    {
     "name": "stdout",
     "output_type": "stream",
     "text": [
      "SELECT PhotoID FROM Photos WHERE TRUE AND ((cast(strftime('%H', time(PhotoDateTime)) as INTEGER) >= 15) OR (cast(strftime('%H', time(PhotoDateTime)) as INTEGER) <= 11)) AND ((cast(strftime('%m', date(PhotoDateTime)) as INTEGER) >= 5) OR (cast(strftime('%m', date(PhotoDateTime)) as INTEGER) <= 3)) AND (LocationLatitude BETWEEN 59.350938 AND 60.350938) AND (LocationLongitude BETWEEN 29.819084 AND 30.819084) AND (Weather BETWEEN 0 AND 100)\n",
      "Found 9 images for you\n"
     ]
    }
   ],
   "source": [
    "# Importing required modules\n",
    "from database.database_client_sqlite import ImageDatabaseSQLiteClient\n",
    "\n",
    "# Creating new database client instance\n",
    "db_client = ImageDatabaseSQLiteClient()\n",
    "images = db_client.get_images(location, date_time, weather, hour_delta=10, month_delta=5, weather_delta=100)\n",
    "\n",
    "print(f\"Found {len(images)} images for you\")"
   ]
  },
  {
   "cell_type": "code",
   "execution_count": 7,
   "id": "b0fba4ab",
   "metadata": {},
   "outputs": [
    {
     "data": {
      "application/vnd.jupyter.widget-view+json": {
       "model_id": "86375c2341c848178b4400ac8bc308d6",
       "version_major": 2,
       "version_minor": 0
      },
      "text/plain": [
       "Map(center=[59.9451, 30.2169], controls=(ZoomControl(options=['position', 'zoom_in_text', 'zoom_in_title', 'zo…"
      ]
     },
     "metadata": {},
     "output_type": "display_data"
    }
   ],
   "source": [
    "from ipyleaflet import Map, Marker, Icon\n",
    "from ipywidgets import HTML, Image\n",
    "\n",
    "center = (59.9451, 30.2169)\n",
    "\n",
    "m = Map(center=center, zoom=10)\n",
    "\n",
    "for image in images:\n",
    "    marker = Marker(location=image.exif_info.gps_info.location(), draggable=False)\n",
    "    image_path = '/'.join(image.image_path.split('/')[5:])\n",
    "    palette_path = '/'.join(image.palette_path.split('/')[5:])\n",
    "    marker.popup = HTML(f'<img src=\"{image_path}\"></img>  <img src=\"{palette_path}\"></img>')\n",
    "    m.add_layer(marker)\n",
    "\n",
    "m"
   ]
  },
  {
   "cell_type": "code",
   "execution_count": null,
   "id": "b28ea157",
   "metadata": {},
   "outputs": [],
   "source": []
  }
 ],
 "metadata": {
  "kernelspec": {
   "display_name": "Python 3 (ipykernel)",
   "language": "python",
   "name": "python3"
  },
  "language_info": {
   "codemirror_mode": {
    "name": "ipython",
    "version": 3
   },
   "file_extension": ".py",
   "mimetype": "text/x-python",
   "name": "python",
   "nbconvert_exporter": "python",
   "pygments_lexer": "ipython3",
   "version": "3.9.6"
  }
 },
 "nbformat": 4,
 "nbformat_minor": 5
}
