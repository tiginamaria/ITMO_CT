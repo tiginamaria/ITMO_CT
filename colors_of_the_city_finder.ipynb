{
 "cells": [
  {
   "cell_type": "markdown",
   "id": "7b68b278",
   "metadata": {},
   "source": [
    "# Getting user's location"
   ]
  },
  {
   "cell_type": "code",
   "execution_count": 1,
   "id": "cfafc56f",
   "metadata": {},
   "outputs": [
    {
     "name": "stderr",
     "output_type": "stream",
     "text": [
      "QSettings::value: Empty key passed\n",
      "QSettings::value: Empty key passed\n"
     ]
    },
    {
     "name": "stdout",
     "output_type": "stream",
     "text": [
      "['Санкт-Петербург, Кронверский проспект, 49']\n"
     ]
    }
   ],
   "source": [
    "# Importing required modules\n",
    "import sys\n",
    "from ui.finder_location_gui import UserLocation\n",
    "\n",
    "# Creating application\n",
    "user_location_gui = UserLocation()\n",
    "\n",
    "# Running GUI and getting user's response\n",
    "user_location_list = user_location_gui.run_GUI()\n",
    "\n",
    "# Deleting application\n",
    "del user_location_gui\n",
    "\n",
    "# Checking user's response (debug)\n",
    "if len(user_location_list) == 0:\n",
    "    print('No input data')\n",
    "else:\n",
    "    print(user_location_list)"
   ]
  },
  {
   "cell_type": "markdown",
   "id": "ba9de1ab",
   "metadata": {},
   "source": [
    "# Checking the type of input location and converting to a list of floats"
   ]
  },
  {
   "cell_type": "code",
   "execution_count": 2,
   "id": "14646de2",
   "metadata": {},
   "outputs": [
    {
     "name": "stdout",
     "output_type": "stream",
     "text": [
      "[59.956165, 30.309382]\n"
     ]
    }
   ],
   "source": [
    "# Importing required modules\n",
    "from clients.yandex_geocoder.yandex_geocoder_client import YandexGeocoderClient\n",
    "\n",
    "# Checking type of response\n",
    "if len(user_location_list) == 1:\n",
    "    location_convert = YandexGeocoderClient('9b6abe72-c629-42d6-aec0-37393d031787')\n",
    "    user_location_list_temp = location_convert.get_location_by_address(user_location_list)\n",
    "    user_location_list = [user_location_list_temp[1], user_location_list_temp[0]]\n",
    "else:\n",
    "    user_location_list = [float(i) for i in user_location_list]\n",
    "\n",
    "# Printing result (debug)   \n",
    "print(user_location_list)"
   ]
  },
  {
   "cell_type": "markdown",
   "id": "87417d0c",
   "metadata": {},
   "source": [
    "# Getting current time and weather of the user"
   ]
  },
  {
   "cell_type": "code",
   "execution_count": 3,
   "id": "105fa2b1",
   "metadata": {},
   "outputs": [
    {
     "name": "stdout",
     "output_type": "stream",
     "text": [
      "Current date and time: 2021-10-24 23:03:18\n",
      "Current weather: 0\n"
     ]
    }
   ],
   "source": [
    "# Importing required modules\n",
    "from datetime import datetime\n",
    "from clients.openweather.openweather_client import OpenWeatherClient\n",
    "\n",
    "# Getting current date and time\n",
    "current_datetime = datetime.now().strftime(\"%Y-%m-%d %H:%M:%S\")\n",
    "\n",
    "# Getting current weather\n",
    "weather_client = OpenWeatherClient('5fd3acb9e271365266e92fce70c407d3')\n",
    "current_weather = weather_client.get_current_weather(user_location_list).clouds.all\n",
    "\n",
    "# Displaying current date/time and weather (debug)\n",
    "print('Current date and time: ' + current_datetime)\n",
    "print('Current weather: ' + str(current_weather))"
   ]
  },
  {
   "cell_type": "markdown",
   "id": "7fab817f",
   "metadata": {},
   "source": [
    "# Setting deltas for requested data"
   ]
  },
  {
   "cell_type": "code",
   "execution_count": 4,
   "id": "fa50e2ce",
   "metadata": {},
   "outputs": [],
   "source": [
    "hour_delta = 10\n",
    "month_delta = 1\n",
    "latitude_delta = 0.5\n",
    "longitude_delta = 0.5\n",
    "weather_delta = 30"
   ]
  },
  {
   "cell_type": "markdown",
   "id": "46a56555",
   "metadata": {},
   "source": [
    "# Creating searching intervals for database request"
   ]
  },
  {
   "cell_type": "code",
   "execution_count": 5,
   "id": "73703134",
   "metadata": {},
   "outputs": [],
   "source": [
    "# Getting current hour and month from date/time\n",
    "current_hour = int(current_datetime[11:13])\n",
    "current_month = int(current_datetime[5:7])\n",
    "\n",
    "# Calculating left and right borders of tolerance interval\n",
    "hour_left = (current_hour - hour_delta + 24) % 24; hour_right = (current_hour + hour_delta + 24) % 24\n",
    "month_left = (current_month - month_delta) % 12; month_right = (current_month + month_delta) % 12\n",
    "latitude_left = user_location_list[0] - latitude_delta; latitude_right = user_location_list[0] + latitude_delta\n",
    "longitude_left = user_location_list[1] - longitude_delta; longitude_right = user_location_list[1] + longitude_delta\n",
    "weather_left = current_weather - weather_delta; weather_right = current_weather + weather_delta"
   ]
  },
  {
   "cell_type": "markdown",
   "id": "c9e47227",
   "metadata": {},
   "source": [
    "# Getting entries id from database"
   ]
  },
  {
   "cell_type": "code",
   "execution_count": 6,
   "id": "cc9ef0ba",
   "metadata": {},
   "outputs": [
    {
     "name": "stdout",
     "output_type": "stream",
     "text": [
      "SELECT PhotoID FROM Photos WHERE TRUE AND ((cast(strftime('%H', time(PhotoDateTime)) as INTEGER) >= 13) OR (cast(strftime('%H', time(PhotoDateTime)) as INTEGER) <= 9)) AND (cast(strftime('%m', date(PhotoDateTime)) as INTEGER) BETWEEN 9 AND 11) AND (LocationLatitude BETWEEN 59.456165 AND 60.456165) AND (LocationLongitude BETWEEN 29.809382 AND 30.809382) AND (Weather BETWEEN -30 AND 30)\n",
      "[1]\n"
     ]
    }
   ],
   "source": [
    "# Importing required modules\n",
    "from database.database_sqlite import ImageDatabase\n",
    "\n",
    "db = ImageDatabase('database/photos.db')\n",
    "entry_id_list = db.get_entry_id_by_parameters(hour_left, hour_right, \n",
    "                                              month_left, month_right,\n",
    "                                              latitude_left, latitude_right,\n",
    "                                              longitude_left, longitude_right,\n",
    "                                              weather_left, weather_right)\n",
    "\n",
    "# Displaying list of obtained entries (debug)\n",
    "print(entry_id_list)"
   ]
  },
  {
   "cell_type": "markdown",
   "id": "f28d1306",
   "metadata": {},
   "source": [
    "# Getting images location by their entry id"
   ]
  },
  {
   "cell_type": "code",
   "execution_count": 7,
   "id": "9c5c1b44",
   "metadata": {},
   "outputs": [
    {
     "name": "stdout",
     "output_type": "stream",
     "text": [
      "[[60.0, 30.0]]\n"
     ]
    }
   ],
   "source": [
    "# Creating list for images locations storage\n",
    "images_location_list = []\n",
    "\n",
    "# Getting location for every entry\n",
    "for entry_id in entry_id_list:\n",
    "    image_location = list(db.get_location_by_entry_id(entry_id))\n",
    "    images_location_list.append(image_location)\n",
    "    \n",
    "# Displaying obtained locations (debug)\n",
    "print(images_location_list)"
   ]
  },
  {
   "cell_type": "markdown",
   "id": "51f914ef",
   "metadata": {},
   "source": [
    "# Getting images colors by their entry id"
   ]
  },
  {
   "cell_type": "code",
   "execution_count": 8,
   "id": "e618ffdd",
   "metadata": {},
   "outputs": [
    {
     "name": "stdout",
     "output_type": "stream",
     "text": [
      "[[0.1, 0.1, 0.1, 10]]\n"
     ]
    }
   ],
   "source": [
    "# Creating list for images colors storage\n",
    "images_colors_list = []\n",
    "\n",
    "# Getting colors for every entry\n",
    "for entry_id in entry_id_list:\n",
    "    image_colors = list(db.get_colors_by_entry_id(entry_id))\n",
    "    images_colors_list.append(image_colors)\n",
    "    \n",
    "# Displaying obtained colors (debug)\n",
    "print(images_colors_list)"
   ]
  },
  {
   "cell_type": "markdown",
   "id": "c4893599",
   "metadata": {},
   "source": [
    "# Displaying colors on the map"
   ]
  },
  {
   "cell_type": "code",
   "execution_count": null,
   "id": "bd7431f8",
   "metadata": {},
   "outputs": [],
   "source": []
  }
 ],
 "metadata": {
  "kernelspec": {
   "display_name": "Python 3 (ipykernel)",
   "language": "python",
   "name": "python3"
  },
  "language_info": {
   "codemirror_mode": {
    "name": "ipython",
    "version": 3
   },
   "file_extension": ".py",
   "mimetype": "text/x-python",
   "name": "python",
   "nbconvert_exporter": "python",
   "pygments_lexer": "ipython3",
   "version": "3.9.5"
  }
 },
 "nbformat": 4,
 "nbformat_minor": 5
}
