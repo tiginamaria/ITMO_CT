{
 "cells": [
  {
   "cell_type": "markdown",
   "id": "2f453fd5",
   "metadata": {},
   "source": [
    "# Get location of new photos on the computer"
   ]
  },
  {
   "cell_type": "code",
   "execution_count": 1,
   "id": "e4aefcba",
   "metadata": {},
   "outputs": [
    {
     "name": "stdout",
     "output_type": "stream",
     "text": [
      "List of selected photoes: ['/Users/tiginamaria1999/PycharmProjects/itmo_ct/resources/images_to_process/IMG_20210916_203847.jpg']\n"
     ]
    }
   ],
   "source": [
    "# Importing required modules\n",
    "import sys\n",
    "from ui.upload_photo_gui import select_photos_to_upload\n",
    "\n",
    "selected_photos = select_photos_to_upload()\n",
    "print(f\"List of selected photoes: {selected_photos}\")"
   ]
  },
  {
   "cell_type": "markdown",
   "id": "c223e790",
   "metadata": {},
   "source": [
    "# Add new entries to Photos table of database, check if exists"
   ]
  },
  {
   "cell_type": "code",
   "execution_count": 2,
   "id": "0efbf684",
   "metadata": {},
   "outputs": [
    {
     "name": "stderr",
     "output_type": "stream",
     "text": [
      "WARNING:root:DateTime and GPSInfo not provided in image exif data.\n"
     ]
    },
    {
     "name": "stdout",
     "output_type": "stream",
     "text": [
      "1/1 have been successfully uploaded\n",
      "Service can not detect where IMG_20210916_203847.jpg was made?\n",
      "Please, enter address (e.x. Ленинский пр. 161, 13) or location (e.x. 30.23 60.132) for it:\n",
      "Ленинский пр. 161, 13\n",
      "Got address: Ленинский пр. 161, 13, detect location (30.319084, 59.850938)\n",
      "Please, enter datetime (e.x. 2021-10-25 09:31:32) for it:\n",
      "2021-10-25 09:31:32\n"
     ]
    },
    {
     "name": "stderr",
     "output_type": "stream",
     "text": [
      "WARNING:root:Building request for datetime 2021-10-25 09:31:32\n"
     ]
    },
    {
     "name": "stdout",
     "output_type": "stream",
     "text": [
      "Got datetime: 2021-10-25 09:31:32\n",
      "1/1 have been successfully processed\n"
     ]
    }
   ],
   "source": [
    "# Importing required modules\n",
    "from database.database_client_sqlite import ImageDatabaseSQLiteClient\n",
    "\n",
    "# Creating new database client instance\n",
    "db_client = ImageDatabaseSQLiteClient()\n",
    "db_client.add_images(selected_photos)\n",
    "        "
   ]
  }
 ],
 "metadata": {
  "kernelspec": {
   "display_name": "Python 3 (ipykernel)",
   "language": "python",
   "name": "python3"
  },
  "language_info": {
   "codemirror_mode": {
    "name": "ipython",
    "version": 3
   },
   "file_extension": ".py",
   "mimetype": "text/x-python",
   "name": "python",
   "nbconvert_exporter": "python",
   "pygments_lexer": "ipython3",
   "version": "3.9.6"
  }
 },
 "nbformat": 4,
 "nbformat_minor": 5
}
