{
 "cells": [
  {
   "cell_type": "markdown",
   "id": "2f453fd5",
   "metadata": {},
   "source": [
    "# Get location of new photos on the computer"
   ]
  },
  {
   "cell_type": "code",
   "execution_count": 1,
   "id": "e4aefcba",
   "metadata": {},
   "outputs": [
    {
     "name": "stdout",
     "output_type": "stream",
     "text": [
      "['/home/hirnlosen/GitHub/ITMO_CT/resources/images_to_process_all/IMG_20191022_125615.jpg', '/home/hirnlosen/GitHub/ITMO_CT/resources/images_to_process_all/IMG_20191022_125723.jpg', '/home/hirnlosen/GitHub/ITMO_CT/resources/images_to_process_all/IMG_20211007_134536.jpg', '/home/hirnlosen/GitHub/ITMO_CT/resources/images_to_process_all/IMG_20211007_134621.jpg']\n"
     ]
    }
   ],
   "source": [
    "# Importing required modules\n",
    "import sys\n",
    "from core.utils.open_new_images import PhotoSelector\n",
    "\n",
    "# Running UI\n",
    "selected_photos = PhotoSelector(sys.argv)\n",
    "selected_photos_path = selected_photos.run_UI()\n",
    "print(selected_photos_path)\n",
    "del(selected_photos)"
   ]
  },
  {
   "cell_type": "markdown",
   "id": "c223e790",
   "metadata": {},
   "source": [
    "# Add new entries to Photos table of database "
   ]
  },
  {
   "cell_type": "code",
   "execution_count": null,
   "id": "0efbf684",
   "metadata": {},
   "outputs": [],
   "source": []
  },
  {
   "cell_type": "markdown",
   "id": "107be74c",
   "metadata": {},
   "source": [
    "# Move new photos to photo storage directory"
   ]
  },
  {
   "cell_type": "code",
   "execution_count": null,
   "id": "305e9bff",
   "metadata": {},
   "outputs": [],
   "source": []
  },
  {
   "cell_type": "markdown",
   "id": "9097664f",
   "metadata": {},
   "source": [
    "# Fill empty metadata cells into Photos table of database"
   ]
  },
  {
   "cell_type": "code",
   "execution_count": null,
   "id": "82a79e44",
   "metadata": {},
   "outputs": [],
   "source": []
  },
  {
   "cell_type": "markdown",
   "id": "a3f63601",
   "metadata": {},
   "source": [
    "# Extract colors from new photos and fill them into Colors table of database"
   ]
  },
  {
   "cell_type": "code",
   "execution_count": null,
   "id": "fdab7fe3",
   "metadata": {},
   "outputs": [],
   "source": []
  }
 ],
 "metadata": {
  "kernelspec": {
   "display_name": "Python 3 (ipykernel)",
   "language": "python",
   "name": "python3"
  },
  "language_info": {
   "codemirror_mode": {
    "name": "ipython",
    "version": 3
   },
   "file_extension": ".py",
   "mimetype": "text/x-python",
   "name": "python",
   "nbconvert_exporter": "python",
   "pygments_lexer": "ipython3",
   "version": "3.9.5"
  }
 },
 "nbformat": 4,
 "nbformat_minor": 5
}
