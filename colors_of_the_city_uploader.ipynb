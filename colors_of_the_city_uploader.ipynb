{
 "cells": [
  {
   "cell_type": "markdown",
   "id": "2f453fd5",
   "metadata": {},
   "source": [
    "# Get location of new photos on the computer"
   ]
  },
  {
   "cell_type": "code",
   "execution_count": null,
   "id": "e4aefcba",
   "metadata": {},
   "outputs": [],
   "source": [
    "# Importing required modules\n",
    "import sys\n",
    "from ui.gui_requests_handler import select_photos_to_upload\n",
    "\n",
    "selected_photos = select_photos_to_upload()\n",
    "print(f\"List of selected photoes:\")\n",
    "print(*selected_photos, sep='\\n')"
   ]
  },
  {
   "cell_type": "markdown",
   "id": "c223e790",
   "metadata": {},
   "source": [
    "# Add new entries to Photos table of database, check if exists"
   ]
  },
  {
   "cell_type": "code",
   "execution_count": null,
   "id": "0efbf684",
   "metadata": {},
   "outputs": [],
   "source": [
    "# Importing required modules\n",
    "from database.database_client_sqlite import ImageDatabaseSQLiteClient\n",
    "\n",
    "# Creating new database client instance\n",
    "db_client = ImageDatabaseSQLiteClient()\n",
    "\n",
    "# Add all selected images to database\n",
    "db_client.add_images(selected_photos)\n",
    "        "
   ]
  },
  {
   "cell_type": "code",
   "execution_count": null,
   "id": "2ad40dd1",
   "metadata": {},
   "outputs": [],
   "source": []
  }
 ],
 "metadata": {
  "kernelspec": {
   "display_name": "Python 3 (ipykernel)",
   "language": "python",
   "name": "python3"
  },
  "language_info": {
   "codemirror_mode": {
    "name": "ipython",
    "version": 3
   },
   "file_extension": ".py",
   "mimetype": "text/x-python",
   "name": "python",
   "nbconvert_exporter": "python",
   "pygments_lexer": "ipython3",
   "version": "3.9.6"
  }
 },
 "nbformat": 4,
 "nbformat_minor": 5
}
