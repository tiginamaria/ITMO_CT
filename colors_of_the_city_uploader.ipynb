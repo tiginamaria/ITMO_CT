{
 "cells": [
  {
   "cell_type": "markdown",
   "id": "2f453fd5",
   "metadata": {},
   "source": [
    "# Get location of new photos on the computer"
   ]
  },
  {
   "cell_type": "code",
   "execution_count": 1,
   "id": "e4aefcba",
   "metadata": {},
   "outputs": [
    {
     "name": "stdout",
     "output_type": "stream",
     "text": [
      "['/Users/tiginamaria1999/PycharmProjects/itmo_ct/resources/images_to_process/photo_2021-10-10 12.19.05.jpg']\n"
     ]
    }
   ],
   "source": [
    "# Importing required modules\n",
    "import sys\n",
    "from ui.open_new_images import PhotoSelector\n",
    "\n",
    "# Running UI\n",
    "selected_photos = PhotoSelector(sys.argv)\n",
    "selected_photos_path = selected_photos.run_UI().copy()\n",
    "del(selected_photos)\n",
    "print(selected_photos_path)"
   ]
  },
  {
   "cell_type": "markdown",
   "id": "c223e790",
   "metadata": {},
   "source": [
    "# Add new entries to Photos table of database, check if exists"
   ]
  },
  {
   "cell_type": "code",
   "execution_count": 2,
   "id": "0efbf684",
   "metadata": {},
   "outputs": [
    {
     "ename": "ModuleNotFoundError",
     "evalue": "No module named 'database.database_client_new'",
     "output_type": "error",
     "traceback": [
      "\u001b[0;31m---------------------------------------------------------------------------\u001b[0m",
      "\u001b[0;31mModuleNotFoundError\u001b[0m                       Traceback (most recent call last)",
      "\u001b[0;32m/var/folders/4s/hl9y6lqs3h1c9qxxnbjmtvsr0000gn/T/ipykernel_16579/3383277737.py\u001b[0m in \u001b[0;36m<module>\u001b[0;34m\u001b[0m\n\u001b[1;32m      1\u001b[0m \u001b[0;31m# Importing required modules\u001b[0m\u001b[0;34m\u001b[0m\u001b[0;34m\u001b[0m\u001b[0;34m\u001b[0m\u001b[0m\n\u001b[0;32m----> 2\u001b[0;31m \u001b[0;32mfrom\u001b[0m \u001b[0mdatabase\u001b[0m\u001b[0;34m.\u001b[0m\u001b[0mdatabase_client_new\u001b[0m \u001b[0;32mimport\u001b[0m \u001b[0mImageDatabase\u001b[0m\u001b[0;34m\u001b[0m\u001b[0;34m\u001b[0m\u001b[0m\n\u001b[0m\u001b[1;32m      3\u001b[0m \u001b[0;34m\u001b[0m\u001b[0m\n\u001b[1;32m      4\u001b[0m \u001b[0;31m# Creating new database instance\u001b[0m\u001b[0;34m\u001b[0m\u001b[0;34m\u001b[0m\u001b[0;34m\u001b[0m\u001b[0m\n\u001b[1;32m      5\u001b[0m \u001b[0mdb\u001b[0m \u001b[0;34m=\u001b[0m \u001b[0mImageDatabase\u001b[0m\u001b[0;34m(\u001b[0m\u001b[0;34m'database/photos.db'\u001b[0m\u001b[0;34m)\u001b[0m \u001b[0;31m# Better take database name from config file\u001b[0m\u001b[0;34m\u001b[0m\u001b[0;34m\u001b[0m\u001b[0m\n",
      "\u001b[0;31mModuleNotFoundError\u001b[0m: No module named 'database.database_client_new'"
     ]
    }
   ],
   "source": [
    "# Importing required modules\n",
    "from database.database_client_sqlite import ImageDatabaseSQLiteClient\n",
    "\n",
    "# Creating new database client instance\n",
    "db_client = ImageDatabaseSQLiteClient()\n",
    "db_client.add_all_images(selected_photos_path)\n",
    "        "
   ]
  },
  {
   "cell_type": "markdown",
   "id": "107be74c",
   "metadata": {},
   "source": [
    "# Copy new photos to photo storage directory"
   ]
  },
  {
   "cell_type": "code",
   "execution_count": null,
   "id": "305e9bff",
   "metadata": {},
   "outputs": [],
   "source": []
  },
  {
   "cell_type": "markdown",
   "id": "9097664f",
   "metadata": {},
   "source": [
    "# Fill empty metadata cells into Photos table of database"
   ]
  },
  {
   "cell_type": "code",
   "execution_count": null,
   "id": "82a79e44",
   "metadata": {},
   "outputs": [],
   "source": []
  },
  {
   "cell_type": "markdown",
   "id": "a3f63601",
   "metadata": {},
   "source": [
    "# Extract colors from new photos and fill them into Colors table of database"
   ]
  },
  {
   "cell_type": "code",
   "execution_count": null,
   "id": "fdab7fe3",
   "metadata": {},
   "outputs": [],
   "source": []
  }
 ],
 "metadata": {
  "kernelspec": {
   "display_name": "Python 3 (ipykernel)",
   "language": "python",
   "name": "python3"
  },
  "language_info": {
   "codemirror_mode": {
    "name": "ipython",
    "version": 3
   },
   "file_extension": ".py",
   "mimetype": "text/x-python",
   "name": "python",
   "nbconvert_exporter": "python",
   "pygments_lexer": "ipython3",
   "version": "3.9.5"
  }
 },
 "nbformat": 4,
 "nbformat_minor": 5
}
