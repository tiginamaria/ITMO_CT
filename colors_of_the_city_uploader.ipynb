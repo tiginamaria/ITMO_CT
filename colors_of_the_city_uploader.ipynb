{
 "cells": [
  {
   "cell_type": "markdown",
   "id": "2f453fd5",
   "metadata": {},
   "source": [
    "# Get location of new photos on the computer"
   ]
  },
  {
   "cell_type": "code",
   "execution_count": 3,
   "id": "e4aefcba",
   "metadata": {},
   "outputs": [
    {
     "name": "stdout",
     "output_type": "stream",
     "text": [
      "[]\n"
     ]
    }
   ],
   "source": [
    "# Importing required modules\n",
    "import sys\n",
    "from core.utils.open_new_images import PhotoSelector\n",
    "\n",
    "# Running UI\n",
    "selected_photos = PhotoSelector(sys.argv)\n",
    "selected_photos_path = selected_photos.run_UI().copy()\n",
    "del(selected_photos)\n",
    "print(selected_photos_path)"
   ]
  },
  {
   "cell_type": "markdown",
   "id": "c223e790",
   "metadata": {},
   "source": [
    "# Add new entries to Photos table of database, check if exists"
   ]
  },
  {
   "cell_type": "code",
   "execution_count": null,
   "id": "0efbf684",
   "metadata": {},
   "outputs": [],
   "source": [
    "# Importing required modules\n",
    "from database.database_client_new import ImageDatabase\n",
    "\n",
    "# Creating new database instance\n",
    "db = ImageDatabase('database/photos.db') # Better take database name from config file\n",
    "\n",
    "# Finding only unique photos\n",
    "list_of_all_photos_name = db.get_all_image_names()\n",
    "print(list_of_all_photos_name)\n",
    "\n",
    "#for entry in selected_photos_path:\n",
    "    #if entry not in list_of_all_photos_name:\n",
    "        "
   ]
  },
  {
   "cell_type": "markdown",
   "id": "107be74c",
   "metadata": {},
   "source": [
    "# Copy new photos to photo storage directory"
   ]
  },
  {
   "cell_type": "code",
   "execution_count": null,
   "id": "305e9bff",
   "metadata": {},
   "outputs": [],
   "source": []
  },
  {
   "cell_type": "markdown",
   "id": "9097664f",
   "metadata": {},
   "source": [
    "# Fill empty metadata cells into Photos table of database"
   ]
  },
  {
   "cell_type": "code",
   "execution_count": null,
   "id": "82a79e44",
   "metadata": {},
   "outputs": [],
   "source": []
  },
  {
   "cell_type": "markdown",
   "id": "a3f63601",
   "metadata": {},
   "source": [
    "# Extract colors from new photos and fill them into Colors table of database"
   ]
  },
  {
   "cell_type": "code",
   "execution_count": null,
   "id": "fdab7fe3",
   "metadata": {},
   "outputs": [],
   "source": []
  }
 ],
 "metadata": {
  "kernelspec": {
   "display_name": "Python 3 (ipykernel)",
   "language": "python",
   "name": "python3"
  },
  "language_info": {
   "codemirror_mode": {
    "name": "ipython",
    "version": 3
   },
   "file_extension": ".py",
   "mimetype": "text/x-python",
   "name": "python",
   "nbconvert_exporter": "python",
   "pygments_lexer": "ipython3",
   "version": "3.9.5"
  }
 },
 "nbformat": 4,
 "nbformat_minor": 5
}
